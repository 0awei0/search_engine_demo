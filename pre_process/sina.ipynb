{
 "cells": [
  {
   "cell_type": "code",
   "execution_count": 5,
   "metadata": {
    "collapsed": true,
    "pycharm": {
     "name": "#%%\n"
    }
   },
   "outputs": [
    {
     "name": "stdout",
     "output_type": "stream",
     "text": [
      "ERROR! Session/line number was not unique in database. History logging moved to new session 688\n"
     ]
    }
   ],
   "source": [
    "import warnings\n",
    "import pandas as pd\n",
    "import hashlib\n",
    "import jieba\n",
    "import re\n",
    "\n",
    "from tqdm import tqdm\n",
    "from spiders.create_db import connect\n",
    "\n",
    "warnings.filterwarnings('ignore')"
   ]
  },
  {
   "cell_type": "markdown",
   "source": [
    "md5加密url"
   ],
   "metadata": {
    "collapsed": false,
    "pycharm": {
     "name": "#%% md\n"
    }
   }
  },
  {
   "cell_type": "code",
   "execution_count": 6,
   "outputs": [
    {
     "data": {
      "text/plain": "15356930010969299234"
     },
     "execution_count": 6,
     "metadata": {},
     "output_type": "execute_result"
    }
   ],
   "source": [
    "data = 'https://news.sina.com.cn/c/2020-10-07/doc-iivhvpwz0689607.shtml'\n",
    "ans = hashlib.md5(data.encode(encoding='UTF-8')).hexdigest()\n",
    "int(ans[8:-8], 16)"
   ],
   "metadata": {
    "collapsed": false,
    "pycharm": {
     "name": "#%%\n"
    }
   }
  },
  {
   "cell_type": "code",
   "execution_count": 7,
   "outputs": [
    {
     "data": {
      "text/plain": "                      id                               title  \\\n0       3928515898915405                 特朗普复出演讲信口开河“向中国要赔偿”   \n1       6578924263750113                      林郑昨晚劝市民，这话都说了！   \n2      13207172530879708                   阿富汗“变天” 考验印度的时候到了   \n3      13383836803546473              特朗普会见刘鹤：感谢中方整类列管芬太尼类物质   \n4      14552070335599651            中央关注！孙春兰连夜赴吉林，当地6名官员密集被免   \n..                   ...                                 ...   \n495  1194181248054534402            不欢迎前美国驻成都总领事夫人言论引争议 他这样说   \n496  1194317703306178228  辽宁高院对加拿大籍上诉人罗伯特-劳埃德-谢伦伯格走私毒品一案二审宣判   \n497  1195078446291550668             习近平宣布：中国两年内将提供20亿美元国际援助   \n498  1196003080132089630              俄国防部：俄联邦武装力量当日所有任务均已完成   \n499  1197872923654678295               12.4万份机密文件，捅出全球最“脏”老板   \n\n                                               content  \\\n0    原标题:特朗普复出演讲信口开河“向中国要赔偿”,美国网友:害死数十万美国人的是你!  [环球...   \n1    原标题:林郑昨晚劝市民,这话都说了!  香港立法会教育事务委员会7月3日召开会议,讨论幼儿园...   \n2    原标题:阿富汗“变天”,考验印度的时候到了  英国广播公司网站8月17日发表题为《塔利班的胜...   \n3    原标题:美国总统特朗普会见刘鹤  新华社华盛顿4月4日电(记者颜亮 韩洁)当地时间4月4日,...   \n4    原标题:中央关注!孙春兰连夜赴吉林,当地6名官员密集被免  来源:政知圈  撰文 |  余晖...   \n..                                                 ...   \n495  原标题:“不欢迎庄祖宜”言论引争议,前美驻成都总领馆主厨陈涛回应  (观察者网讯)近期,美国...   \n496  原标题:辽宁省高级人民法院对加拿大籍上诉人罗伯特·劳埃德·谢伦伯格走私毒品一案二审宣判  “...   \n497  原标题:习主席宣布:中国两年内将提供20亿美元国际援助  北京时间18日晚,国家主席习近平在...   \n498  当地时间24日,俄罗斯国防部表示,为俄罗斯联邦武装力量24日设定的所有任务都已完成。(总台记...   \n499  来源:环球人物  被“逼宫”下台后  他又出“幺蛾子”了?  作者:王秦怡  拉拢各国政要修...   \n\n                                                  link  \\\n0    https://news.sina.com.cn/c/2021-06-06/doc-ikqc...   \n1    https://news.sina.com.cn/c/2020-07-05/doc-iirc...   \n2    https://news.sina.com.cn/o/2021-08-20/doc-ikqc...   \n3    https://news.sina.com.cn/2019-04-05/doc-ihvhiq...   \n4    https://news.sina.com.cn/c/2020-05-17/doc-iirc...   \n..                                                 ...   \n495  https://news.sina.com.cn/c/2020-07-28/doc-iivh...   \n496  https://news.sina.com.cn/c/2021-08-10/doc-ikqc...   \n497  https://news.sina.com.cn/c/xl/2020-05-18/doc-i...   \n498  https://news.sina.com.cn/w/2022-02-25/doc-imcw...   \n499  https://news.sina.com.cn/w/2022-07-15/doc-imiz...   \n\n                                                  urls  \n0    http://english.sina.com/ http://eladies.sina.c...  \n1    http://english.sina.com/ http://eladies.sina.c...  \n2    http://english.sina.com/ http://eladies.sina.c...  \n3    http://english.sina.com/ http://eladies.sina.c...  \n4    http://english.sina.com/ http://eladies.sina.c...  \n..                                                 ...  \n495  http://english.sina.com/ http://eladies.sina.c...  \n496  http://english.sina.com/ http://eladies.sina.c...  \n497  http://edu.sina.com.cn/ http://corp.sina.com.c...  \n498  http://english.sina.com/ http://eladies.sina.c...  \n499  http://english.sina.com/ http://tags.news.sina...  \n\n[500 rows x 5 columns]",
      "text/html": "<div>\n<style scoped>\n    .dataframe tbody tr th:only-of-type {\n        vertical-align: middle;\n    }\n\n    .dataframe tbody tr th {\n        vertical-align: top;\n    }\n\n    .dataframe thead th {\n        text-align: right;\n    }\n</style>\n<table border=\"1\" class=\"dataframe\">\n  <thead>\n    <tr style=\"text-align: right;\">\n      <th></th>\n      <th>id</th>\n      <th>title</th>\n      <th>content</th>\n      <th>link</th>\n      <th>urls</th>\n    </tr>\n  </thead>\n  <tbody>\n    <tr>\n      <th>0</th>\n      <td>3928515898915405</td>\n      <td>特朗普复出演讲信口开河“向中国要赔偿”</td>\n      <td>原标题:特朗普复出演讲信口开河“向中国要赔偿”,美国网友:害死数十万美国人的是你!  [环球...</td>\n      <td>https://news.sina.com.cn/c/2021-06-06/doc-ikqc...</td>\n      <td>http://english.sina.com/ http://eladies.sina.c...</td>\n    </tr>\n    <tr>\n      <th>1</th>\n      <td>6578924263750113</td>\n      <td>林郑昨晚劝市民，这话都说了！</td>\n      <td>原标题:林郑昨晚劝市民,这话都说了!  香港立法会教育事务委员会7月3日召开会议,讨论幼儿园...</td>\n      <td>https://news.sina.com.cn/c/2020-07-05/doc-iirc...</td>\n      <td>http://english.sina.com/ http://eladies.sina.c...</td>\n    </tr>\n    <tr>\n      <th>2</th>\n      <td>13207172530879708</td>\n      <td>阿富汗“变天” 考验印度的时候到了</td>\n      <td>原标题:阿富汗“变天”,考验印度的时候到了  英国广播公司网站8月17日发表题为《塔利班的胜...</td>\n      <td>https://news.sina.com.cn/o/2021-08-20/doc-ikqc...</td>\n      <td>http://english.sina.com/ http://eladies.sina.c...</td>\n    </tr>\n    <tr>\n      <th>3</th>\n      <td>13383836803546473</td>\n      <td>特朗普会见刘鹤：感谢中方整类列管芬太尼类物质</td>\n      <td>原标题:美国总统特朗普会见刘鹤  新华社华盛顿4月4日电(记者颜亮 韩洁)当地时间4月4日,...</td>\n      <td>https://news.sina.com.cn/2019-04-05/doc-ihvhiq...</td>\n      <td>http://english.sina.com/ http://eladies.sina.c...</td>\n    </tr>\n    <tr>\n      <th>4</th>\n      <td>14552070335599651</td>\n      <td>中央关注！孙春兰连夜赴吉林，当地6名官员密集被免</td>\n      <td>原标题:中央关注!孙春兰连夜赴吉林,当地6名官员密集被免  来源:政知圈  撰文 |  余晖...</td>\n      <td>https://news.sina.com.cn/c/2020-05-17/doc-iirc...</td>\n      <td>http://english.sina.com/ http://eladies.sina.c...</td>\n    </tr>\n    <tr>\n      <th>...</th>\n      <td>...</td>\n      <td>...</td>\n      <td>...</td>\n      <td>...</td>\n      <td>...</td>\n    </tr>\n    <tr>\n      <th>495</th>\n      <td>1194181248054534402</td>\n      <td>不欢迎前美国驻成都总领事夫人言论引争议 他这样说</td>\n      <td>原标题:“不欢迎庄祖宜”言论引争议,前美驻成都总领馆主厨陈涛回应  (观察者网讯)近期,美国...</td>\n      <td>https://news.sina.com.cn/c/2020-07-28/doc-iivh...</td>\n      <td>http://english.sina.com/ http://eladies.sina.c...</td>\n    </tr>\n    <tr>\n      <th>496</th>\n      <td>1194317703306178228</td>\n      <td>辽宁高院对加拿大籍上诉人罗伯特-劳埃德-谢伦伯格走私毒品一案二审宣判</td>\n      <td>原标题:辽宁省高级人民法院对加拿大籍上诉人罗伯特·劳埃德·谢伦伯格走私毒品一案二审宣判  “...</td>\n      <td>https://news.sina.com.cn/c/2021-08-10/doc-ikqc...</td>\n      <td>http://english.sina.com/ http://eladies.sina.c...</td>\n    </tr>\n    <tr>\n      <th>497</th>\n      <td>1195078446291550668</td>\n      <td>习近平宣布：中国两年内将提供20亿美元国际援助</td>\n      <td>原标题:习主席宣布:中国两年内将提供20亿美元国际援助  北京时间18日晚,国家主席习近平在...</td>\n      <td>https://news.sina.com.cn/c/xl/2020-05-18/doc-i...</td>\n      <td>http://edu.sina.com.cn/ http://corp.sina.com.c...</td>\n    </tr>\n    <tr>\n      <th>498</th>\n      <td>1196003080132089630</td>\n      <td>俄国防部：俄联邦武装力量当日所有任务均已完成</td>\n      <td>当地时间24日,俄罗斯国防部表示,为俄罗斯联邦武装力量24日设定的所有任务都已完成。(总台记...</td>\n      <td>https://news.sina.com.cn/w/2022-02-25/doc-imcw...</td>\n      <td>http://english.sina.com/ http://eladies.sina.c...</td>\n    </tr>\n    <tr>\n      <th>499</th>\n      <td>1197872923654678295</td>\n      <td>12.4万份机密文件，捅出全球最“脏”老板</td>\n      <td>来源:环球人物  被“逼宫”下台后  他又出“幺蛾子”了?  作者:王秦怡  拉拢各国政要修...</td>\n      <td>https://news.sina.com.cn/w/2022-07-15/doc-imiz...</td>\n      <td>http://english.sina.com/ http://tags.news.sina...</td>\n    </tr>\n  </tbody>\n</table>\n<p>500 rows × 5 columns</p>\n</div>"
     },
     "execution_count": 7,
     "metadata": {},
     "output_type": "execute_result"
    }
   ],
   "source": [
    "conn = connect()\n",
    "table = pd.read_sql(\"select * from sina limit 500\", conn)\n",
    "table"
   ],
   "metadata": {
    "collapsed": false,
    "pycharm": {
     "name": "#%%\n"
    }
   }
  },
  {
   "cell_type": "code",
   "execution_count": 8,
   "outputs": [
    {
     "data": {
      "text/plain": "0"
     },
     "execution_count": 8,
     "metadata": {},
     "output_type": "execute_result"
    }
   ],
   "source": [
    "i = 0\n",
    "\n",
    "\n",
    "def judge(x):\n",
    "    global i\n",
    "    ans = hashlib.md5(x['link'].encode(encoding='UTF-8')).hexdigest()\n",
    "    if x['id'] != int(ans[8:-8], 16):\n",
    "        print(x['link'])\n",
    "        print(x['id'])\n",
    "        i += 1\n",
    "\n",
    "\n",
    "table.apply(lambda x: judge(x), axis=1)\n",
    "i"
   ],
   "metadata": {
    "collapsed": false,
    "pycharm": {
     "name": "#%%\n"
    }
   }
  },
  {
   "cell_type": "markdown",
   "source": [
    "分词"
   ],
   "metadata": {
    "collapsed": false,
    "pycharm": {
     "name": "#%% md\n"
    }
   }
  },
  {
   "cell_type": "code",
   "execution_count": 9,
   "outputs": [
    {
     "name": "stderr",
     "output_type": "stream",
     "text": [
      "分词: 100%|██████████| 500/500 [00:09<00:00, 53.72it/s]\n"
     ]
    },
    {
     "data": {
      "text/plain": "0      [损失, 反华, 首付, 卡罗, 言中, 在发言中, 二次, 集体, 国会山, 措施, 信口...\n1      [Ip, Regina, Facebook, 大声, 对此, 难以置信, 行政长官, 内容,...\n2      [鲍里斯, 政治学, 约翰, 紧张, 阿姆, 治病, 胜利, 治学, 形式, 基斯, 边界,...\n3      [珀杜, 中方, 商务部长, 高级顾问, 财政部长, 国人, 经贸, 纳等, 经济, 有成,...\n4      [wepolitics, ID, 免职, 民警, 多个, 患者, 接机, 岳晓燕, 肺炎, ...\n                             ...                        \n495    [焦点人物, 中方, 与此, 不顺, 关闭, 暗指, 近日, 健健康康, 发布, 斯敦, 纳...\n496    [SN, 维持原判, 埃德, 甲基, 性质, 公众, 审判程序, 原判, 民法, 伙同他人,...\n497    [携起手来, 斗争, 仓库, 经济, 视频, 通道, 团结合作, 第届, 推进, 主义, 设...\n498    [Ingrida, Polikha, Kaja, CNN, Jens, Kallas, Ig...\n499    [Kill, CEO, CDN, Kamel, UberPop, Cutco, Switch...\nName: all_words, Length: 500, dtype: object"
     },
     "execution_count": 9,
     "metadata": {},
     "output_type": "execute_result"
    }
   ],
   "source": [
    "jieba.load_userdict('../cache/user_dict.txt')\n",
    "stopwords = [line.strip() for line in open('../cache/stopwords.txt', 'r', encoding='utf-8').readlines()]\n",
    "tqdm.pandas(desc=\"分词\")\n",
    "\n",
    "eng_pattern = re.compile(\"[A-Za-z]+\", re.I)\n",
    "clean_pattern = re.compile(r'[A-Za-z\\d_.!+-=—,$%^，。？、~@#￥…&*《》<>「」{}【】()/]', re.I)\n",
    "\n",
    "\n",
    "def cut_sentence(sentence):\n",
    "    # 将英文分词\n",
    "    eng_words = re.findall(eng_pattern, sentence)\n",
    "    eng_words = [word for word in eng_words if not word.isdigit()]\n",
    "    english_words = list(set(eng_words))\n",
    "    # 中文分词\n",
    "    chinese_sentence = re.sub(clean_pattern, '', sentence).replace(' ', '')\n",
    "    chinese_words = jieba.cut_for_search(chinese_sentence)\n",
    "    chinese_words = list(set(chinese_words))\n",
    "    all_words = english_words + chinese_words\n",
    "    return [word for word in all_words if word not in stopwords and 1 < len(word) <= 20 and not word.isdigit()]\n",
    "\n",
    "\n",
    "table['all_words'] = table['content'].progress_apply(lambda x: cut_sentence(x))\n",
    "table['all_words']"
   ],
   "metadata": {
    "collapsed": false,
    "pycharm": {
     "name": "#%%\n"
    }
   }
  },
  {
   "cell_type": "markdown",
   "source": [
    "获得tf,idf"
   ],
   "metadata": {
    "collapsed": false,
    "pycharm": {
     "name": "#%% md\n"
    }
   }
  },
  {
   "cell_type": "code",
   "execution_count": 10,
   "outputs": [
    {
     "data": {
      "text/plain": "                      id                                                 tf\n0       3928515898915405  {'损失': 1, '反华': 1, '首付': 1, '卡罗': 1, '言中': 1, ...\n1       6578924263750113  {'Ip': 1, 'Regina': 1, 'Facebook': 1, '大声': 1,...\n2      13207172530879708  {'鲍里斯': 1, '政治学': 1, '约翰': 1, '紧张': 1, '阿姆': 1...\n3      13383836803546473  {'珀杜': 1, '中方': 1, '商务部长': 1, '高级顾问': 1, '财政部长...\n4      14552070335599651  {'wepolitics': 1, 'ID': 1, '免职': 1, '民警': 1, '...\n..                   ...                                                ...\n495  1194181248054534402  {'焦点人物': 1, '中方': 1, '与此': 1, '不顺': 1, '关闭': 1...\n496  1194317703306178228  {'SN': 1, '维持原判': 1, '埃德': 1, '甲基': 1, '性质': 1...\n497  1195078446291550668  {'携起手来': 1, '斗争': 1, '仓库': 1, '经济': 1, '视频': 1...\n498  1196003080132089630  {'Ingrida': 1, 'Polikha': 1, 'Kaja': 1, 'CNN':...\n499  1197872923654678295  {'Kill': 1, 'CEO': 1, 'CDN': 1, 'Kamel': 1, 'U...\n\n[500 rows x 2 columns]",
      "text/html": "<div>\n<style scoped>\n    .dataframe tbody tr th:only-of-type {\n        vertical-align: middle;\n    }\n\n    .dataframe tbody tr th {\n        vertical-align: top;\n    }\n\n    .dataframe thead th {\n        text-align: right;\n    }\n</style>\n<table border=\"1\" class=\"dataframe\">\n  <thead>\n    <tr style=\"text-align: right;\">\n      <th></th>\n      <th>id</th>\n      <th>tf</th>\n    </tr>\n  </thead>\n  <tbody>\n    <tr>\n      <th>0</th>\n      <td>3928515898915405</td>\n      <td>{'损失': 1, '反华': 1, '首付': 1, '卡罗': 1, '言中': 1, ...</td>\n    </tr>\n    <tr>\n      <th>1</th>\n      <td>6578924263750113</td>\n      <td>{'Ip': 1, 'Regina': 1, 'Facebook': 1, '大声': 1,...</td>\n    </tr>\n    <tr>\n      <th>2</th>\n      <td>13207172530879708</td>\n      <td>{'鲍里斯': 1, '政治学': 1, '约翰': 1, '紧张': 1, '阿姆': 1...</td>\n    </tr>\n    <tr>\n      <th>3</th>\n      <td>13383836803546473</td>\n      <td>{'珀杜': 1, '中方': 1, '商务部长': 1, '高级顾问': 1, '财政部长...</td>\n    </tr>\n    <tr>\n      <th>4</th>\n      <td>14552070335599651</td>\n      <td>{'wepolitics': 1, 'ID': 1, '免职': 1, '民警': 1, '...</td>\n    </tr>\n    <tr>\n      <th>...</th>\n      <td>...</td>\n      <td>...</td>\n    </tr>\n    <tr>\n      <th>495</th>\n      <td>1194181248054534402</td>\n      <td>{'焦点人物': 1, '中方': 1, '与此': 1, '不顺': 1, '关闭': 1...</td>\n    </tr>\n    <tr>\n      <th>496</th>\n      <td>1194317703306178228</td>\n      <td>{'SN': 1, '维持原判': 1, '埃德': 1, '甲基': 1, '性质': 1...</td>\n    </tr>\n    <tr>\n      <th>497</th>\n      <td>1195078446291550668</td>\n      <td>{'携起手来': 1, '斗争': 1, '仓库': 1, '经济': 1, '视频': 1...</td>\n    </tr>\n    <tr>\n      <th>498</th>\n      <td>1196003080132089630</td>\n      <td>{'Ingrida': 1, 'Polikha': 1, 'Kaja': 1, 'CNN':...</td>\n    </tr>\n    <tr>\n      <th>499</th>\n      <td>1197872923654678295</td>\n      <td>{'Kill': 1, 'CEO': 1, 'CDN': 1, 'Kamel': 1, 'U...</td>\n    </tr>\n  </tbody>\n</table>\n<p>500 rows × 2 columns</p>\n</div>"
     },
     "execution_count": 10,
     "metadata": {},
     "output_type": "execute_result"
    }
   ],
   "source": [
    "import pickle\n",
    "\n",
    "from gensim.summarization.bm25 import BM25\n",
    "\n",
    "corpus = table['content']\n",
    "\n",
    "bm25 = BM25(table['all_words'])\n",
    "\n",
    "with open(\"../cache/idf_dic.pickle\", mode=\"wb\") as f:\n",
    "    pickle.dump(bm25.idf, f)\n",
    "\n",
    "tmp = pd.DataFrame()\n",
    "tmp['id'] = table['id']\n",
    "tmp['tf'] = bm25.doc_freqs\n",
    "with open(\"../cache/tf_df.pickle\", mode=\"wb\") as f:\n",
    "    pickle.dump(tmp, f)\n",
    "tmp"
   ],
   "metadata": {
    "collapsed": false,
    "pycharm": {
     "name": "#%%\n"
    }
   }
  },
  {
   "cell_type": "markdown",
   "source": [
    "获得tfidf"
   ],
   "metadata": {
    "collapsed": false,
    "pycharm": {
     "name": "#%% md\n"
    }
   }
  },
  {
   "cell_type": "code",
   "execution_count": 11,
   "outputs": [
    {
     "name": "stderr",
     "output_type": "stream",
     "text": [
      "tfidf: 100%|██████████| 500/500 [00:00<00:00, 100054.96it/s]\n"
     ]
    }
   ],
   "source": [
    "from sklearn.feature_extraction.text import TfidfVectorizer\n",
    "\n",
    "tqdm.pandas(desc=\"tfidf\")\n",
    "table['docs'] = table['all_words'].progress_apply(lambda x: \" \".join(x))\n",
    "\n",
    "docs = table['docs'].tolist()\n",
    "vectorizer = TfidfVectorizer()\n",
    "vectorizer.fit(docs)\n",
    "matrix = vectorizer.transform(docs).toarray()\n",
    "name = vectorizer.get_feature_names_out()"
   ],
   "metadata": {
    "collapsed": false,
    "pycharm": {
     "name": "#%%\n"
    }
   }
  },
  {
   "cell_type": "markdown",
   "source": [
    "保存tfidf"
   ],
   "metadata": {
    "collapsed": false,
    "pycharm": {
     "name": "#%% md\n"
    }
   }
  },
  {
   "cell_type": "code",
   "execution_count": 12,
   "outputs": [
    {
     "name": "stderr",
     "output_type": "stream",
     "text": [
      "生成tfidf df: 100%|██████████| 500/500 [00:00<00:00, 1111.28it/s]\n"
     ]
    }
   ],
   "source": [
    "import pickle\n",
    "\n",
    "tfidf_list = []\n",
    "\n",
    "\n",
    "def get_tfidf():\n",
    "    for i in tqdm(range(0, matrix.shape[0]), desc=\"生成tfidf df\"):\n",
    "        t = pd.Series(matrix[i, :], name)\n",
    "        t = t[t != 0]\n",
    "        # 选择100个tfidf值最大的词作为这篇文档的关键词\n",
    "        t = t.nlargest(100)\n",
    "        tfidf_list.append(t.to_dict())\n",
    "        del t\n",
    "\n",
    "\n",
    "get_tfidf()\n",
    "table['tfidf'] = tfidf_list\n",
    "with open(\"../cache/tfidf_df.pickle\", mode=\"wb\") as f:\n",
    "    pickle.dump(table[['id', 'tfidf']], f)\n",
    "\n",
    "del table['tfidf']"
   ],
   "metadata": {
    "collapsed": false,
    "pycharm": {
     "name": "#%%\n"
    }
   }
  },
  {
   "cell_type": "markdown",
   "source": [
    "计算PageRank"
   ],
   "metadata": {
    "collapsed": false,
    "pycharm": {
     "name": "#%% md\n"
    }
   }
  },
  {
   "cell_type": "code",
   "execution_count": 13,
   "outputs": [
    {
     "data": {
      "text/plain": "500"
     },
     "execution_count": 13,
     "metadata": {},
     "output_type": "execute_result"
    }
   ],
   "source": [
    "import networkx as nx\n",
    "\n",
    "digraph = nx.Graph()\n",
    "links = table['link'].tolist()\n",
    "\n",
    "for link in links:\n",
    "    digraph.add_node(link)\n",
    "\n",
    "\n",
    "def add_edges(x):\n",
    "    for url in x['urls'].split(' '):\n",
    "        if url in links:\n",
    "            digraph.add_edge(x['link'], url)\n",
    "\n",
    "\n",
    "table.apply(lambda x: add_edges(x), axis=1)\n",
    "pr_dic = nx.pagerank(digraph)\n",
    "with open('../cache/pr.pickle', mode='wb') as f:\n",
    "    pickle.dump(pr_dic, f)\n",
    "len(pr_dic)"
   ],
   "metadata": {
    "collapsed": false,
    "pycharm": {
     "name": "#%%\n"
    }
   }
  },
  {
   "cell_type": "code",
   "execution_count": 14,
   "outputs": [
    {
     "data": {
      "text/plain": "'select * from sina where id in (3928515898915405, 6578924263750113, 13207172530879708, 13383836803546473, 14552070335599651)'"
     },
     "execution_count": 14,
     "metadata": {},
     "output_type": "execute_result"
    }
   ],
   "source": [
    "index = table['id'].tolist()[0:5]\n",
    "\n",
    "sql = \"select * from sina where id in {index}\".format(index=tuple(index))\n",
    "sql"
   ],
   "metadata": {
    "collapsed": false,
    "pycharm": {
     "name": "#%%\n"
    }
   }
  },
  {
   "cell_type": "markdown",
   "source": [
    "查询"
   ],
   "metadata": {
    "collapsed": false,
    "pycharm": {
     "name": "#%% md\n"
    }
   }
  },
  {
   "cell_type": "code",
   "execution_count": 15,
   "outputs": [
    {
     "data": {
      "text/plain": "5"
     },
     "execution_count": 15,
     "metadata": {},
     "output_type": "execute_result"
    }
   ],
   "source": [
    "conn = connect()\n",
    "cursor = conn.cursor()\n",
    "cursor.execute(sql)\n",
    "data = cursor.fetchall()\n",
    "cursor.close()\n",
    "conn.close()\n",
    "len(data)"
   ],
   "metadata": {
    "collapsed": false,
    "pycharm": {
     "name": "#%%\n"
    }
   }
  },
  {
   "cell_type": "markdown",
   "source": [
    "提取关键词"
   ],
   "metadata": {
    "collapsed": false,
    "pycharm": {
     "name": "#%% md\n"
    }
   }
  },
  {
   "cell_type": "code",
   "execution_count": 16,
   "outputs": [
    {
     "data": {
      "text/plain": "0      [七零八, 七零八落, 信口, 信口开河, 借新冠, 先说, 北卡罗, 北卡罗来纳州, 卡罗...\n1      [facebook, ip, regina, 不忍, 为林, 人站, 假仁假义, 假手, 单...\n2      [伦杜, 兰开斯, 兰开斯特, 关键作用, 参与者, 政治学, 数以千计, 治学, 治病, ...\n3      [九轮, 农业部长, 努钦, 口信, 同习, 商务部长, 圆形, 富有成效, 对习, 希泽,...\n4      [三姐, 丰满, 丰满区, 任双, 免政知, 免月, 刘世君, 刘世君据, 刘春成, 刘艺龙...\n                             ...                        \n495    [一微博, 一时间, 不顺, 主厨, 交情, 何其, 健健康康, 公布出来, 前美, 卑微,...\n496    [上诉人, 丙胺, 事实清楚, 加拿大籍, 劳埃德, 原判, 原审, 埃德, 报请, 政协委...\n497    [同二, 枢纽, 偿付, 及性, 团结合作, 对口, 携起手来, 清关, 致辞, 起手, 世...\n498    [igor, jens, kaja, kallas, polikha, stoltenber...\n499    [akamai, cdn, cutco, kamel, kill, redswoosh, s...\nName: keywords, Length: 500, dtype: object"
     },
     "execution_count": 16,
     "metadata": {},
     "output_type": "execute_result"
    }
   ],
   "source": [
    "table['keywords'] = [''] * len(table)\n",
    "idx = 0\n",
    "\n",
    "with open('../cache/tfidf_df.pickle', mode='rb') as f:\n",
    "    tfidf_df = pickle.load(f)\n",
    "\n",
    "for value in tfidf_df['tfidf']:\n",
    "    table._set_value(idx, 'keywords', list(value.keys()))\n",
    "    idx += 1\n",
    "\n",
    "table['keywords']"
   ],
   "metadata": {
    "collapsed": false,
    "pycharm": {
     "name": "#%%\n"
    }
   }
  },
  {
   "cell_type": "markdown",
   "source": [
    "倒排索引"
   ],
   "metadata": {
    "collapsed": false,
    "pycharm": {
     "name": "#%% md\n"
    }
   }
  },
  {
   "cell_type": "markdown",
   "source": [
    "对关键词做倒排索引"
   ],
   "metadata": {
    "collapsed": false,
    "pycharm": {
     "name": "#%% md\n"
    }
   }
  },
  {
   "cell_type": "code",
   "execution_count": 17,
   "outputs": [
    {
     "data": {
      "text/plain": "{'abc': [45588900320060257, 177558422321667994, 616455604925836187],\n 'aclu': [456404445553442800],\n 'acting': [484159448302975965],\n 'ad': [760627512670574408],\n 'adam': [17321357353514440],\n 'adolph': [717823667141827982],\n 'adt': [760627512670574408],\n 'advisory': [1175265597665519415],\n 'adx': [760627512670574408],\n 'aei': [86558379671419990],\n 'aera': [513446405557873713],\n 'agency': [890246207407361007],\n 'ais': [726340178345976632],\n 'akamai': [1197872923654678295],\n 'al': [89898365693953652],\n 'alan': [303999745143272056],\n 'alexandria': [1100978128246061478],\n 'alloys': [89898365693953652],\n 'analytics': [717113915694702246],\n 'andrew': [456404445553442800],\n 'angela': [1116022794477685107],\n 'ani': [687082392843072285],\n 'ap': [693575031800931400],\n 'apl': [868152566308616299],\n 'app': [71559255030646824,\n  86327398134978235,\n  831505839577155721,\n  928194736944617403],\n 'ara': [1131234217413691492],\n 'armour': [118807871537547600],\n 'arseniy': [888798029461228690],\n 'ashley': [442985687593815402],\n 'asia': [1170432029832389761],\n 'aspi': [106376718734996893],\n 'aspide': [398031077920448816],\n 'atlas': [466258842394735831],\n 'ato': [868152566308616299],\n 'atomic': [89898365693953652],\n 'atp': [229574578345797948],\n 'atr': [1125197391980987121],\n 'atra': [868152566308616299],\n 'atrocities': [1112272138817694598],\n 'attacks': [1170432029832389761],\n 'aufb': [158284299189998099],\n 'aukus': [570690790826444072],\n 'australian': [106376718734996893],\n 'av': [78810206342177063],\n 'aventa': [676670201901229019],\n 'aviationist': [324396303591889665],\n 'award': [89898365693953652],\n 'ay': [218471704186809858],\n 'ba': [548970070871607883, 1026052071355004488],\n 'babies': [118807871537547600],\n 'baby': [118807871537547600],\n 'balbek': [717823667141827982],\n 'bannon': [106376718734996893],\n 'batcovratg': [912785060401745225],\n 'bbc': [122778464518738471, 690190875239297013, 820509643466950647],\n 'bc': [1085671259941242916],\n 'bci': [110736916282523532],\n 'bcs': [71026054321036478],\n 'beanie': [118807871537547600],\n 'beijing': [104033253673262452, 1067556343316055244],\n 'bellingcat': [1172715086862915932],\n 'ben': [474213930477761936],\n 'bernhard': [1172715086862915932],\n 'beth': [913367525312567994],\n 'bilozerska': [362323304203192304],\n 'biological': [890246207407361007],\n 'black': [1073094534489171393],\n 'bno': [690190875239297013],\n 'bob': [466258842394735831],\n 'bolingbrook': [118807871537547600],\n 'bombed': [536262582539614360],\n 'boomka': [965482276441647013],\n 'botting': [906824474263443356],\n 'boundary': [89898365693953652],\n 'bqzhengzhiju': [1159367661887205548],\n 'brell': [646374801139082957],\n 'burisma': [1073094534489171393],\n 'bush': [1100978128246061478],\n 'buzzfeed': [676670201901229019],\n 'ca': [19613379600688746],\n 'cac': [723963136309402250],\n 'cain': [1023770960056694717],\n 'caldwell': [442985687593815402],\n 'capitalnews': [333998406796314676, 359047922708153493, 1123258283248317985],\n 'cas': [607395485474221906],\n 'cba': [236091155045762513],\n 'cbct': [700136178202585595],\n 'cbd': [760627512670574408],\n 'cbep': [890246207407361007],\n 'cbo': [1100978128246061478],\n 'cbs': [102976069268768294, 755513881205332158, 1175979634786431330],\n 'cdn': [1197872923654678295],\n 'ceo': [636132327391348433],\n 'ces': [928194736944617403],\n 'cfo': [303999745143272056],\n 'cgtn': [110736916282523532, 119451266639174897, 122778464518738471],\n 'chabahar': [1078356130860797122],\n 'chadha': [406247285098342975],\n 'challenges': [466258842394735831],\n 'charles': [152163550896874243, 156635108123989309],\n 'chauhan': [1132689248563812652],\n 'china': [456404445553442800, 536262582539614360],\n 'christian': [1175265597665519415],\n 'chronicle': [1030920237889301771],\n 'cia': [1008639935110889752],\n 'citizen': [418459540976832748],\n 'clean': [484159448302975965],\n 'cnbc': [411371044251948675, 676670201901229019],\n 'cnn': [45588900320060257,\n  616455604925836187,\n  971733032585307947,\n  1135144719122160603],\n 'co': [118807871537547600],\n 'completed': [536262582539614360],\n 'confrontation': [536262582539614360],\n 'conlow': [118807871537547600],\n 'cooperative': [890246207407361007],\n 'cori': [1100978128246061478],\n 'corp': [118807871537547600],\n 'cortez': [1100978128246061478],\n 'countries': [536262582539614360],\n 'covid': [158284299189998099],\n 'cp': [526600847620112582],\n 'cpi': [419861690281121476],\n 'cpih': [419861690281121476],\n 'cr': [89898365693953652],\n 'creek': [109357992817273381],\n 'creep': [89898365693953652],\n 'crew': [50832523619336557],\n 'crystal': [89898365693953652],\n 'csir': [554149444125944087],\n 'ct': [621909712883988474],\n 'ctr': [890246207407361007],\n 'cut': [362323304203192304],\n 'cutco': [1197872923654678295],\n 'daily': [104033253673262452, 1067556343316055244],\n 'dan': [466258842394735831],\n 'daniel': [1175979634786431330],\n 'darpa': [890246207407361007],\n 'das': [31015807476870092],\n 'data': [864164799275833717],\n 'daunte': [1158364185818300105],\n 'david': [456404445553442800],\n 'dax': [723963136309402250],\n 'ddg': [640242315195569502],\n 'death': [536262582539614360],\n 'deckers': [118807871537547600],\n 'defense': [690917062520224419, 890246207407361007],\n 'defensenews': [1063550105576467370],\n 'delta': [621909712883988474],\n 'demers': [456404445553442800],\n 'dianne': [122778464518738471],\n 'diari': [1131234217413691492],\n 'diffusion': [89898365693953652],\n 'dirty': [484159448302975965],\n 'dl': [925299107178252614],\n 'dmitry': [362323304203192304],\n 'dpa': [1172715086862915932],\n 'drag': [536262582539614360],\n 'drive': [1089130149479205485],\n 'ds': [1132689248563812652],\n 'dswa': [890246207407361007],\n 'dtra': [890246207407361007],\n 'dumbrill': [1175979634786431330],\n 'dynamics': [542431793241571010],\n 'easa': [1175265597665519415],\n 'ebikes': [118807871537547600],\n 'ecmo': [32428403703625500],\n 'ecotextile': [110736916282523532],\n 'eesi': [489377778516558284],\n 'efe': [1131234217413691492],\n 'einstein': [118807871537547600],\n 'ek': [387273296407371755],\n 'elint': [1089130149479205485],\n 'embarrassing': [110736916282523532],\n 'ems': [82454977462793782],\n 'engagement': [890246207407361007],\n 'erna': [988593981805711881],\n 'espn': [1131234217413691492],\n 'eswatini': [1030920237889301771],\n 'ettoday': [872119318800652024],\n 'eu': [536262582539614360, 1175265597665519415],\n 'eugene': [473257041143469332],\n 'evalution': [577787364318423284],\n 'examiner': [1158364185818300105],\n 'exner': [459188389972165294],\n 'exo': [717113915694702246],\n 'faa': [1175265597665519415],\n 'facebook': [6578924263750113],\n 'false': [1078356130860797122],\n 'fara': [1073094534489171393],\n 'fbi': [262333466209758618, 821003625733737167],\n 'fbis': [648108447448108012],\n 'fc': [31015807476870092],\n 'fcdo': [448914907284811529],\n 'feinstein': [122778464518738471],\n 'fema': [676670201901229019],\n 'feu': [118807871537547600],\n 'fiba': [236091155045762513],\n 'fina': [607395485474221906],\n 'flad': [595268792501195311],\n 'flightradar': [489377778516558284],\n 'for': [888798029461228690],\n 'force': [1170432029832389761],\n 'forced': [106376718734996893],\n 'forster': [912785060401745225],\n 'founder': [912785060401745225],\n 'fox': [119451266639174897],\n 'franklin': [89898365693953652],\n 'freedom': [888798029461228690, 1038369219242066669],\n 'freightos': [118807871537547600],\n 'fta': [406247285098342975],\n 'galaxy': [717113915694702246],\n 'gallagher': [913367525312567994],\n 'gannon': [1158364185818300105],\n 'gansu': [53500044237040639],\n 'gao': [1175265597665519415],\n 'gary': [906824474263443356],\n 'gascade': [71026054321036478],\n 'gateway': [864164799275833717],\n 'gazmanov': [362323304203192304],\n 'gazprom': [71026054321036478],\n 'gdp': [19513188535259481, 210421462385470897],\n 'gennadiy': [384928657093927288],\n 'genocide': [1112272138817694598],\n 'gerichtsfest': [158284299189998099],\n 'gisaid': [912785060401745225],\n 'global': [864164799275833717],\n 'gnc': [677669269177562663],\n 'goldberg': [384928657093927288],\n 'goldstein': [1116022794477685107],\n 'gosar': [976703425453607942],\n 'gpa': [89898365693953652],\n 'grain': [89898365693953652],\n 'gray': [1116022794477685107],\n 'gu': [473257041143469332],\n 'gunnigle': [118807871537547600],\n 'guzhva': [1112272138817694598],\n 'gwh': [542431793241571010],\n 'hamelin': [156635108123989309],\n 'hani': [466258842394735831],\n 'hansen': [988593981805711881],\n 'happened': [106376718734996893],\n 'harrabin': [663757588749789222],\n 'harvey': [810388388866969042],\n 'herman': [1023770960056694717],\n 'hike': [976703425453607942],\n 'hindu': [1078356130860797122],\n 'history': [536262582539614360],\n 'holy': [690917062520224419],\n 'homeland': [1038369219242066669],\n 'homelessness': [536262582539614360],\n 'horizon': [1175265597665519415],\n 'house': [864164799275833717],\n 'hpa': [1156386329808013913],\n 'hsgac': [1073094534489171393],\n 'huffman': [1100978128246061478],\n 'human': [536262582539614360],\n 'hunter': [118807871537547600],\n 'ibex': [723963136309402250],\n 'icao': [1125197391980987121],\n 'icc': [1112272138817694598],\n 'icu': [621909712883988474],\n 'id': [110736916282523532,\n  333998406796314676,\n  1067556343316055244,\n  1123258283248317985],\n 'idol': [331914016059009710],\n 'ig': [991178899980419320],\n 'igor': [1196003080132089630],\n 'ihl': [988593981805711881],\n 'ii': [889840227212693235],\n 'iif': [300855597031901421],\n 'ilhan': [1100978128246061478],\n 'illusorisch': [158284299189998099],\n 'imax': [717113915694702246],\n 'imf': [419861690281121476],\n 'imint': [1089130149479205485],\n 'imonyt': [1038369219242066669, 1196003080132089630],\n 'impossible': [118807871537547600],\n 'in': [536262582539614360],\n 'inc': [636132327391348433],\n 'infinity': [459188389972165294],\n 'ingrida': [1038369219242066669, 1196003080132089630],\n 'inhibiting': [89898365693953652],\n 'initiative': [456404445553442800],\n 'ins': [1132689248563812652],\n 'instagram': [156635108123989309],\n 'institute': [89898365693953652],\n 'investments': [466258842394735831],\n 'ip': [6578924263750113],\n 'ipad': [636132327391348433],\n 'iphone': [636132327391348433],\n 'ipo': [752573864421187238, 1183112908654337772],\n 'ircon': [1078356130860797122],\n 'irna': [240835526444158131],\n 'is': [1030920237889301771],\n 'isis': [1116022794477685107],\n 'itouch': [636132327391348433],\n 'iuu': [84370829039052656],\n 'jackson': [466258842394735831],\n 'jama': [68268609589796018],\n 'james': [106376718734996893],\n 'jared': [1100978128246061478],\n 'jato': [542431793241571010],\n 'javelin': [536021179156753112],\n 'jeff': [456404445553442800],\n 'jens': [1196003080132089630],\n 'jl': [489377778516558284],\n 'johanne': [988593981805711881],\n 'john': [456404445553442800],\n 'josh': [1116022794477685107],\n 'kaja': [1196003080132089630],\n 'kakao': [606316949341098015],\n 'kallas': [1196003080132089630],\n 'kamel': [1197872923654678295],\n 'kapli': [1125197391980987121],\n 'karolinazl': [331914016059009710],\n 'kevin': [717113915694702246],\n 'keystone': [976703425453607942],\n 'keystonexl': [976703425453607942],\n 'kh': [889840227212693235],\n 'kids': [118807871537547600],\n 'kill': [1197872923654678295],\n 'king': [717113915694702246],\n 'kingdom': [1030920237889301771],\n 'kinzinger': [17321357353514440],\n 'kron': [109357992817273381],\n 'kt': [717113915694702246],\n 'ktv': [41939748818697544],\n 'kuenssberg': [663757588749789222],\n 'labour': [106376718734996893],\n 'laufman': [456404445553442800],\n 'laura': [663757588749789222],\n 'lauren': [118807871537547600],\n 'lawson': [663757588749789222],\n 'lectric': [118807871537547600],\n 'lee': [810388388866969042],\n 'lellin': [456404445553442800],\n 'levels': [536262582539614360],\n 'levi': [118807871537547600],\n 'levin': [976703425453607942],\n 'levitt': [1020178694919493924],\n 'lg': [322301089455277080, 717113915694702246],\n 'li': [705014860192509930],\n 'liberal': [1038369219242066669],\n 'lidia': [1112272138817694598],\n 'lieu': [17321357353514440],\n 'life': [888798029461228690],\n 'logo': [331914016059009710],\n 'lomonaco': [456404445553442800],\n 'lrt': [1038369219242066669],\n 'lululemon': [118807871537547600],\n 'mallnow': [71026054321036478],\n 'manasseh': [402471014912440661],\n 'marius': [605726961192547723],\n 'mark': [976703425453607942],\n 'markson': [106376718734996893],\n 'marquez': [1158364185818300105],\n 'masint': [1089130149479205485],\n 'matthew': [456404445553442800],\n 'max': [663757588749789222, 928194736944617403, 1175265597665519415],\n 'mccaul': [474213930477761936],\n 'mehl': [89898365693953652],\n 'metabiota': [1073094534489171393],\n 'metals': [89898365693953652],\n 'mf': [855576973944141345],\n 'mg': [89898365693953652],\n 'mh': [459188389972165294],\n 'michael': [474213930477761936, 1020178694919493924],\n 'miguel': [1158364185818300105],\n 'mike': [459188389972165294, 913367525312567994],\n 'mini': [636132327391348433],\n 'mirror': [119451266639174897],\n 'mit': [456404445553442800],\n 'mo': [89898365693953652],\n 'model': [894856250286668883],\n 'mohamed': [988593981805711881],\n 'moto': [717113915694702246],\n 'movement': [1038369219242066669],\n 'mp': [89898365693953652],\n 'mq': [454672138826638116],\n 'mr': [387273296407371755],\n 'mrna': [408391830521476862],\n 'msn': [636132327391348433],\n 'msnbc': [466258842394735831],\n 'mu': [266244208172416910, 569605462945875783, 928194736944617403],\n 'museum': [690917062520224419],\n 'mykhailo': [17321357353514440],\n 'naive': [454672138826638116],\n 'nanograined': [89898365693953652],\n 'narwani': [469363073100911159],\n 'nasa': [526078373417082778, 839946063426669406, 936941152241143526],\n 'nastia': [1112272138817694598],\n 'nbc': [45588900320060257,\n  50832523619336557,\n  442985687593815402,\n  469178001173912092],\n 'nbd': [820330252736196323],\n 'nbdnews': [717113915694702246],\n 'nda': [1063550105576467370],\n 'neo': [1175265597665519415],\n 'networks': [89898365693953652],\n 'neurology': [68268609589796018],\n 'news': [110736916282523532, 362323304203192304],\n 'nhk': [37203844454803376, 723963136309402250, 1170432029832389761],\n 'ni': [89898365693953652],\n 'nic': [1158364185818300105],\n 'nicd': [554149444125944087],\n 'nikkei': [1170432029832389761],\n 'ning': [705014860192509930],\n 'nlaw': [536021179156753112],\n 'nm': [89898365693953652],\n 'no': [107401644295542504, 616455604925836187],\n 'nordstrom': [109357992817273381],\n 'northen': [717823667141827982],\n 'nos': [42414441715949171],\n 'npr': [595268792501195311, 676670201901229019],\n 'ocasio': [1100978128246061478],\n 'ocean': [459188389972165294],\n 'ok': [417774113684462506],\n 'oleg': [362323304203192304],\n 'olena': [362323304203192304],\n 'olsen': [456404445553442800],\n 'omar': [1100978128246061478],\n 'omicron': [554149444125944087, 621909712883988474],\n 'ons': [1026052071355004488],\n 'opec': [831505839577155721],\n 'oppo': [1131234217413691492],\n 'orf': [621909712883988474],\n 'ostensibly': [1078356130860797122],\n 'oswald': [810388388866969042],\n 'otac': [648108447448108012],\n 'outdoor': [118807871537547600],\n 'owhat': [331914016059009710],\n 'oxfam': [663757588749789222],\n 'palmer': [106376718734996893, 473257041143469332],\n 'parties': [1038369219242066669],\n 'paul': [976703425453607942],\n 'paxlovid': [114047442508302121, 621909712883988474],\n 'pcr': [621909712883988474],\n 'peskov': [362323304203192304],\n 'peter': [912785060401745225],\n 'petro': [888798029461228690],\n 'pf': [621909712883988474],\n 'philip': [456404445553442800],\n 'pimeyes': [1172715086862915932],\n 'pinebridge': [466258842394735831],\n 'pli': [406247285098342975],\n 'pmrf': [906995105685832788],\n 'pnas': [912785060401745225],\n 'podolyak': [17321357353514440],\n 'polikha': [1196003080132089630],\n 'political': [466258842394735831],\n 'politico': [1073094534489171393, 1175265597665519415],\n 'polo': [474213930477761936],\n 'pop': [717113915694702246],\n 'poroshenko': [888798029461228690],\n 'port': [1078356130860797122],\n 'poverty': [536262582539614360],\n 'ppt': [303999745143272056],\n 'preparing': [1030920237889301771],\n 'prescott': [1008639935110889752],\n 'press': [1079772646009312743],\n 'price': [976703425453607942],\n 'prime': [109357992817273381],\n 'print': [1078356130860797122],\n 'produce': [354445651349402821],\n 'program': [890246207407361007],\n 'programme': [536262582539614360],\n 'propagation': [459188389972165294],\n 'pua': [78810206342177063],\n 'putin': [362323304203192304, 976703425453607942],\n 'pwc': [542431793241571010],\n 'qq': [25322709175710859],\n 'rachael': [456404445553442800],\n 'rafiq': [988593981805711881],\n 'ralph': [118807871537547600],\n 'rand': [976703425453607942],\n 'rasmussen': [1116022794477685107],\n 'rden': [158284299189998099],\n 'really': [106376718734996893],\n 'recognize': [1030920237889301771],\n 'record': [536262582539614360],\n 'reddit': [324396303591889665],\n 'redha': [466258842394735831],\n 'redswoosh': [1197872923654678295],\n 'reduction': [536262582539614360, 890246207407361007],\n 'regina': [6578924263750113],\n 'report': [473257041143469332],\n 'research': [542431793241571010],\n 'rf': [1172715086862915932],\n 'richard': [152163550896874243],\n 'ritter': [152163550896874243],\n 'rna': [68268609589796018],\n 'rnz': [1036519125987973624],\n 'robert': [89898365693953652],\n 'roger': [663757588749789222],\n 'rogin': [1116022794477685107],\n 'rollins': [456404445553442800],\n 'ronald': [71026054321036478],\n 'ronny': [466258842394735831],\n 'rosa': [109357992817273381],\n 'rowan': [595268792501195311, 1158364185818300105],\n 'rq': [690917062520224419],\n 'rt': [152163550896874243, 606316949341098015],\n 'ruc': [850660288936617859],\n 'ruslan': [717823667141827982],\n 'russ': [1063550105576467370],\n 'ryan': [118807871537547600],\n 'sanctioning': [536262582539614360],\n 'sanjay': [406247285098342975],\n 'sanner': [913367525312567994],\n 'santa': [109357992817273381],\n 'sars': [106376718734996893],\n 'sat': [885016819557218630],\n 'savchysyn': [1112272138817694598],\n 'savik': [888798029461228690],\n 'scherer': [1175265597665519415],\n 'schnur': [466258842394735831],\n 'schwarz': [89898365693953652],\n 'science': [89898365693953652, 1068553388894106778],\n 'scott': [152163550896874243, 466258842394735831],\n 'scour': [1197872923654678295],\n 'screater': [1172715086862915932],\n 'seajel': [965482276441647013],\n 'sec': [526078373417082778],\n 'sessions': [456404445553442800],\n 'sh': [526600847620112582],\n 'shaheen': [474213930477761936],\n 'shangyounews': [538987018331868515],\n 'sharmine': [469363073100911159],\n 'sharp': [456404445553442800],\n 'sharri': [106376718734996893],\n 'shuster': [888798029461228690],\n 'sigint': [1089130149479205485],\n 'signal': [459188389972165294],\n 'simon': [761139928283755761],\n 'singh': [1078356130860797122],\n 'siri': [636132327391348433],\n 'skuodis': [605726961192547723],\n 'skynews': [106376718734996893],\n 'sm': [362323304203192304],\n 'smith': [71026054321036478],\n 'sn': [51637643653454044,\n  58517751741449153,\n  60562757664244326,\n  68161054187519579,\n  76490579577035965,\n  105987056060150316,\n  110736916282523532,\n  177558422321667994,\n  210421462385470897,\n  223169727047340032,\n  223912270153494385,\n  244178678539973249,\n  289402822545921829,\n  290804094668302393,\n  484159448302975965,\n  536262582539614360,\n  547925531925355411,\n  602445984235006849,\n  696638702634660784,\n  717823667141827982,\n  725787943518959323,\n  774980465146495994,\n  778916079497544278,\n  830357040003751709,\n  864734874272719702,\n  924936723937094063,\n  1079765756368615024,\n  1079772646009312743,\n  1112675965670811971,\n  1130667989235557989,\n  1131970956245958915,\n  1190805226994860752],\n 'sne': [542431793241571010],\n 'sogavare': [402471014912440661],\n 'sohail': [474213930477761936],\n 'solberg': [988593981805711881],\n 'somaliland': [1030920237889301771],\n 'spacex': [526078373417082778, 839946063426669406],\n 'speech': [362323304203192304, 888798029461228690],\n 'spring': [186784548991367473],\n 'st': [526600847620112582],\n 'stable': [89898365693953652],\n 'starhit': [1172715086862915932],\n 'stephen': [1116022794477685107],\n 'steve': [106376718734996893],\n 'stoltenberg': [1196003080132089630],\n 'story': [595268792501195311],\n 'stratcom': [152163550896874243],\n 'strategy': [717113915694702246],\n 'strauss': [118807871537547600],\n 'structure': [89898365693953652],\n 'supersaturated': [89898365693953652],\n 'support': [1008639935110889752],\n 'suppressing': [89898365693953652],\n 'swift': [1003573322401214437],\n 'switch': [1197872923654678295],\n 'taiwan': [402471014912440661, 1030920237889301771],\n 'talking': [484159448302975965],\n 'tbs': [344896174720000338, 751877152021456194],\n 'ted': [17321357353514440],\n 'telegram': [325610427012641167, 818447347845202895],\n 'ten': [387273296407371755],\n 'the': [324396303591889665,\n  418459540976832748,\n  1078356130860797122,\n  1089130149479205485],\n 'thepaper': [68268609589796018, 419861690281121476],\n 'thomas': [303999745143272056],\n 'threat': [890246207407361007],\n 'tiktok': [71559255030646824,\n  636920424555931305,\n  750846351136563142,\n  864164799275833717,\n  871769528691151843],\n 'tim': [118807871537547600, 1158364185818300105],\n 'tineye': [1172715086862915932],\n 'tisdall': [761139928283755761],\n 'to': [1030920237889301771],\n 'top': [229574578345797948],\n 'topanga': [109357992817273381],\n 'totally': [1078356130860797122],\n 'tpp': [821003625733737167],\n 'ttf': [71026054321036478],\n 'tv': [988593981805711881, 1079772646009312743],\n 'tvcultura': [1067340741855937062],\n 'ty': [118807871537547600],\n 'uberpop': [1197872923654678295],\n 'ugg': [118807871537547600],\n 'ukraina': [888798029461228690],\n 'under': [118807871537547600],\n 'union': [1038369219242066669],\n 'uplus': [717113915694702246],\n 'us': [536262582539614360],\n 'useless': [402471014912440661],\n 'veatch': [1073094534489171393],\n 'verizon': [717113915694702246],\n 'vesselsvalue': [726340178345976632],\n 'vicky': [106376718734996893],\n 'vikramaditya': [1132689248563812652],\n 'voc': [548970070871607883],\n 'vought': [1063550105576467370],\n 'wada': [607395485474221906],\n 'wallace': [474213930477761936],\n 'walnut': [109357992817273381],\n 'waltz': [474213930477761936],\n 'walz': [1158364185818300105],\n 'washington': [1158364185818300105],\n 'weak': [459188389972165294],\n 'wepolitics': [14552070335599651, 901911130382195434],\n 'west': [536262582539614360],\n 'westfield': [109357992817273381],\n 'wha': [279066377094305253],\n 'what': [106376718734996893],\n 'who': [473257041143469332],\n 'why': [536262582539614360],\n 'windfarm': [53500044237040639],\n 'woodward': [466258842394735831],\n 'wright': [1158364185818300105],\n 'wspr': [459188389972165294],\n 'wti': [831505839577155721],\n 'wto': [65173067683499260, 419861690281121476],\n 'wuhan': [106376718734996893],\n 'xjbzse': [414069079881375848],\n 'xu': [106376718734996893],\n 'xx': [534885515950121798],\n 'yatsenyuk': [888798029461228690],\n 'youpassport': [1172715086862915932],\n 'yumen': [53500044237040639],\n 'zahedan': [1078356130860797122],\n 'zh': [889840227212693235],\n 'zhangjia': [988593981805711881],\n 'zl': [636132327391348433],\n 'zone': [1116022794477685107],\n 'zqbcyol': [110736916282523532],\n '一上': [119451266639174897],\n '一上场': [119451266639174897],\n '一不偷': [817450934522154547],\n '一不小心': [749483685324237748],\n '一丝': [536021179156753112],\n '一丝不苟': [886440035926674146],\n '一两': [80918637172228840],\n '一个亿': [454672138826638116],\n '一个半': [483518095279958055],\n '一个半月': [118807871537547600],\n '一个多': [13383836803546473],\n '一个多月': [13383836803546473],\n '一个月': [964842405346194874, 1030920237889301771, 1131970956245958915],\n '一个点': [240835526444158131, 677669269177562663],\n '一个碗': [445340188696919589],\n '一中': [605726961192547723, 636132327391348433],\n '一中一台': [605726961192547723],\n '一举': [871769528691151843, 965482276441647013],\n '一举一动': [889840227212693235, 965482276441647013],\n '一书': [645258993523290404],\n '一书年': [359047922708153493],\n '一事': [240835526444158131,\n  402471014912440661,\n  817450934522154547,\n  818447347845202895,\n  1125197391980987121],\n '一二': [689396463985342413],\n '一产': [1083797090269029858],\n '一亩': [700136178202585595],\n '一人': [379012439437852805, 802158228863122457],\n '一人到': [904889708081370060],\n '一亿': [145001918795643548],\n '一代': [648108447448108012, 817450934522154547, 857012271122982443],\n '一代人': [817450934522154547],\n '一件': [270079026361454375, 1027886675453761657, 1175979634786431330],\n '一任': [1038369219242066669],\n '一份': [505267408188841945, 1038369219242066669],\n '一众': [53500044237040639, 71026054321036478, 1073094534489171393],\n '一伙': [109357992817273381, 606662389520114326],\n '一会': [1112675965670811971],\n '一会儿': [445340188696919589],\n '一传': [423046545554531082],\n '一位': [755513881205332158, 962446864533412829, 1027886675453761657],\n '一体': [186784548991367473],\n '一体化': [1101014947156145777],\n '一例': [118844662533337440,\n  822848169691709720,\n  855576973944141345,\n  1067793588240732567],\n '一侧': [623898366569061080],\n '一俄': [435516266748048456],\n '一倍': [37203844454803376, 152163550896874243, 554149444125944087],\n '一共': [33997596675668845, 325610427012641167],\n '一具': [988593981805711881],\n '一再': [346934114943472769,\n  605726961192547723,\n  834276157488654991,\n  991211598503564431],\n '一再强调': [834276157488654991, 857012271122982443],\n '一出': [483518095279958055, 1078356130860797122],\n '一击': [536021179156753112],\n '一刀': [25970535674322748, 864164799275833717],\n '一刀切': [25970535674322748, 864164799275833717],\n '一分': [56453255872876689, 483518095279958055],\n '一分钟': [411371044251948675, 459188389972165294, 483518095279958055],\n '一切都是': [419861690281121476],\n '一列': [435516266748048456],\n '一到': [456404445553442800],\n '一刻不停': [280102482861903978],\n '一刻起': [118807871537547600],\n '一副': [108634055113832523, 690917062520224419],\n '一动': [889840227212693235, 965482276441647013],\n '一包': [417774113684462506],\n '一区': [182929453940611638],\n '一千': [346934114943472769],\n '一千多': [445340188696919589],\n '一千天': [346934114943472769],\n '一半': [270079026361454375, 448914907284811529],\n '一半一半': [445340188696919589],\n '一厅': [417774113684462506],\n '一厢': [64538154418849300, 84370829039052656],\n '一厢情愿': [64538154418849300, 84370829039052656],\n '一去不复返': [310954133698652395],\n '一双': [417774113684462506],\n '一反常态': [466258842394735831],\n '一发不可收': [886440035926674146],\n '一口': [262333466209758618, 774980465146495994],\n '一口咬定': [106376718734996893],\n '一口气': [14552070335599651, 77203785180518348],\n '一句': [40080214840077523, 820509643466950647, 991211598503564431],\n '一只': [71559255030646824],\n '一台': [324396303591889665,\n  534885515950121798,\n  605726961192547723,\n  1020178694919493924],\n '一号': [936941152241143526],\n '一同': [767905567684391630],\n '一名': [109544309505940225,\n  128368273453859404,\n  136237112005803911,\n  636961908644027432,\n  721806640248195822,\n  1023770960056694717],\n '一向': [31731910051181357],\n '一吨': [673346834970626853],\n '一听': [353197625932521188],\n '一员': [1100978128246061478],\n '一周': [177558422321667994, 871769528691151843],\n '一周年': [1158364185818300105],\n '一味': [919394800988767609, 1008639935110889752],\n '一呼百应': [857012271122982443],\n '一哄而散': [541652477820361716],\n '一唱一和': [45588900320060257, 413395395414964477],\n '一回': [47634799794269200, 640242315195569502, 1132689248563812652],\n '一团': [45588900320060257, 888798029461228690],\n '一团和气': [182929453940611638],\n '一团糟': [45588900320060257],\n '一国': [419861690281121476, 768401189156527975, 1175265597665519415],\n '一国两制': [6578924263750113, 1093106753509947297],\n '一图': [911548211264058854, 1067793588240732567],\n '一圈': [511208445342664591, 705014860192509930],\n '一在': [623898366569061080],\n '一地': [855517499879969911],\n '一场': [45588900320060257, 105987056060150316, 279066377094305253],\n '一块': [751991862148800824, 1189443912496919410],\n '一块钱': [331914016059009710],\n '一城': [39751843979753901],\n '一堆': [314061811695968624, 459188389972165294],\n '一堵': [687082392843072285],\n '一墙之隔': [422864010771844602],\n '一声': [40080214840077523],\n '一壶': [326695170282691086],\n '一处': [556781777494881859,\n  577787364318423284,\n  755513881205332158,\n  988593981805711881],\n '一夕': [834276157488654991],\n '一夜': [31213975101804654, 878101940773765255, 894766957119101293],\n '一夜之间': [31213975101804654, 894766957119101293],\n '一大': [442985687593815402],\n '一大早': [442985687593815402],\n '一大笔': [860930429278134425, 1135755314377532628],\n '一大笔钱': [1135755314377532628],\n '一夫': [51637643653454044, 594865495983048451, 1135144719122160603],\n '一头': [119451266639174897, 865699591740374797],\n '一头雾水': [119451266639174897, 865699591740374797],\n '一套': [256030860779993482, 1165352013440461144],\n '一女': [468679721336177526, 971733032585307947],\n '一如': [857012271122982443],\n '一如既往': [857012271122982443],\n '一字': [526600847620112582],\n '一字排开': [546505689684007321],\n '一孩': [145001918795643548],\n '一宅': [645258993523290404],\n '一宗': [689396463985342413],\n '一审': [297168815603303500, 1194317703306178228],\n '一审判决': [297168815603303500],\n '一室': [417774113684462506],\n '一家': [270079026361454375, 491073425580947624, 962446864533412829],\n '一家人': [86327398134978235],\n '一对': [527570140852032847, 817450934522154547],\n '一对一': [527570140852032847, 663757588749789222],\n '一封': [180753537631619976,\n  430685318741879008,\n  500934338127199972,\n  526078373417082778],\n '一封信': [430685318741879008, 570690790826444072],\n '一小': [262333466209758618,\n  292120495921164120,\n  673346834970626853,\n  904889708081370060,\n  951483985205013175],\n '一小撮': [262333466209758618],\n '一小部分': [904889708081370060],\n '一尘不染': [156635108123989309],\n '一局': [423046545554531082],\n '一层': [864734874272719702],\n '一层楼': [864734874272719702],\n '一届': [223169727047340032,\n  505267408188841945,\n  717823667141827982,\n  800798760643251031,\n  1038369219242066669],\n '一岁': [299673509317512933],\n '一岗双责': [946905040133602678],\n '一己': [991211598503564431],\n '一己之私': [991211598503564431],\n '一市': [1101420923261834832],\n '一帆风顺': [1149647724784660489],\n '一带': [114537726953561910, 655513230470272768],\n '一带而过': [516213489949502729],\n '一席': [542431793241571010],\n '一席之地': [542431793241571010],\n '一幅': [717823667141827982],\n '一幕': [442985687593815402,\n  755513881205332158,\n  767905567684391630,\n  906824474263443356,\n  924696079855364327,\n  1023770960056694717],\n '一应': [356004710335548842],\n '一应俱全': [356004710335548842],\n '一度': [1023770960056694717],\n '一座': [51890031688514321, 80918637172228840],\n '一张': [294873258911757471,\n  314061811695968624,\n  717823667141827982,\n  864734874272719702,\n  868152566308616299,\n  1023770960056694717],\n '一微博': [1194181248054534402],\n '一心': [602445984235006849],\n '一心一意': [84370829039052656, 211820259315193889],\n '一忍': [860930429278134425],\n '一意': [413068766435502152, 802158228863122457, 1024961196366673697],\n '一意孤行': [413068766435502152,\n  802158228863122457,\n  913696678705613286,\n  1024961196366673697],\n '一战': [272865132095774223, 606662389520114326],\n '一户': [865699591740374797],\n '一所': [418459540976832748, 878101940773765255],\n '一手': [346934114943472769],\n '一扫而光': [821003625733737167],\n '一批': [177558422321667994, 270079026361454375, 721806640248195822],\n '一把手': [752988355326269240],\n '一拍即合': [1197872923654678295],\n '一拥而上': [538987018331868515],\n '一拳': [1115708868385268218],\n '一排': [53500044237040639],\n '一排排': [53500044237040639],\n '一提': [121881992531592408, 513446405557873713],\n '一揽子': [1083797090269029858, 1196003080132089630],\n '一整': [86558379671419990],\n '一整套': [86558379671419990],\n '一文': [430685318741879008],\n '一斑': [542431793241571010, 1107701726903500862],\n '一新': [65173067683499260, 473257041143469332],\n '一方': [205116939646827577],\n '一旁': [888798029461228690],\n '一无所有': [526600847620112582],\n '一无所知': [810388388866969042, 976703425453607942, 1008639935110889752],\n '一日': [108634055113832523, 991211598503564431],\n '一日游': [570690790826444072],\n '一早': [1170432029832389761],\n '一时间': [1194181248054534402],\n '一晚': [663757588749789222],\n '一月': [278349420097387050],\n '一朝': [821003625733737167, 834276157488654991],\n '一朝一夕': [834276157488654991],\n '一期': [546505689684007321],\n '一本': [418459540976832748],\n '一本万利': [158284299189998099],\n '一朵': [1132486179995766101],\n '一条': [142298292739470639,\n  272865132095774223,\n  864734874272719702,\n  962446864533412829],\n '一条线': [864734874272719702],\n '一杯': [824362873189655693],\n '一枚': [687082392843072285, 798490579277815973, 977329601898031598],\n '一枝': [466258842394735831],\n '一枝独秀': [466258842394735831],\n '一枪': [391243492992840731, 767905567684391630, 988593981805711881],\n '一架': [497737119861268277,\n  724207930333630291,\n  945407670023033458,\n  1089130149479205485],\n '一查到底': [1159367661887205548],\n '一栏': [1172715086862915932],\n '一根': [767905567684391630],\n '一案': [326549999697840110,\n  607395485474221906,\n  906824474263443356,\n  1194317703306178228],\n '一档': [561214376748035486, 616455604925836187],\n '一检': [19613379600688746],\n '一棒': [42414441715949171],\n '一楼': [556781777494881859],\n '一槌定音': [1100978128246061478],\n '一次性': [548970070871607883],\n '一款': [270079026361454375, 951071542428186506],\n '一步': [126801097434949357,\n  289012933541149532,\n  307223064263754213,\n  379012439437852805,\n  491073425580947624,\n  538353276620978316,\n  733776994680610137,\n  925299107178252614,\n  939018198588631746,\n  951071542428186506],\n '一步一个脚印': [391243492992840731],\n '一步步': [32428403703625500, 262333466209758618],\n '一段': [13207172530879708,\n  128368273453859404,\n  536262582539614360,\n  593637975127708340,\n  864734874272719702],\n '一段时间': [802158228863122457],\n '一段段': [885016819557218630],\n '一段落': [1197872923654678295],\n '一气之下': [860930429278134425],\n '一气呵成': [885016819557218630],\n '一氧化碳': [942020044908667886],\n '一沾上': [1068553388894106778],\n '一法系': [623523338753239758],\n '一波': [31731910051181357, 1036519125987973624],\n '一波三折': [229574578345797948],\n '一派': [853935254035374252],\n '一派胡言': [853935254035374252],\n '一流': [894856250286668883],\n '一清二楚': [278349420097387050],\n '一点': [279066377094305253],\n '一点点': [119297330983085296, 341426919749681596],\n '一烧': [942020044908667886],\n '一片狼藉': [451676687809981217],\n '一环': [171032389891636622],\n '一瓶': [1158364185818300105],\n '一百': [104033253673262452],\n '一百万': [104033253673262452],\n '一百万名': [104033253673262452],\n '一百个': [689396463985342413],\n '一百多': [53500044237040639],\n '一百多个': [53500044237040639],\n '一百年': [89898365693953652],\n '一盘': [229574578345797948, 326695170282691086, 753337341139355835],\n '一目': [419861690281121476, 1024961196366673697],\n '一目了然': [419861690281121476, 1024961196366673697],\n '一省': [486478329817672379, 768401189156527975],\n '一看': [593637975127708340, 1115862118449561571, 1131970956245958915],\n '一眼': [286180387248194701],\n '一着': [426034178587072819],\n '一石激起千层浪': [53500044237040639, 466258842394735831],\n '一票': [936198958938995087],\n '一票否决权': [1112272138817694598],\n '一种': [483518095279958055, 510168178856088436, 616455604925836187],\n '一程': [1132486179995766101],\n '一穷二白': [894856250286668883],\n '一空': [1197872923654678295],\n '一窝': [78810206342177063],\n '一站': [411371044251948675],\n '一章': [889840227212693235],\n '一端': [341426919749681596, 459188389972165294],\n '一笑': [417774113684462506],\n '一笔': [90431907563242434],\n '一笔勾销': [417774113684462506],\n '一等': [645782359157653732, 1196003080132089630],\n '一等功': [645782359157653732],\n '一筹': [500934338127199972, 1083797090269029858],\n '一箱': [182929453940611638],\n '一篇': [45588900320060257],\n '一米': [417774113684462506],\n '一类': [314061811695968624],\n '一系': [37884301794356348,\n  177558422321667994,\n  379012439437852805,\n  1085737675318944643],\n '一系列': [37884301794356348,\n  177558422321667994,\n  379012439437852805,\n  1085737675318944643],\n '一级': [200179787173857993, 451676687809981217],\n '一纸': [326695170282691086, 913696678705613286],\n '一线': [990862366089784077],\n '一线希望': [32428403703625500, 197838433306880752],\n '一组': [68268609589796018, 864734874272719702],\n '一经': [1063550105576467370],\n '一群': [965482276441647013],\n '一老': [951483985205013175],\n '一职': [37203844454803376, 47634799794269200],\n '一股': [473257041143469332],\n '一脉相承': [561214376748035486],\n '一脚': [821003625733737167, 1115708868385268218],\n '一脸': [871769528691151843],\n '一脸茫然': [749483685324237748],\n '一腔': [106315616850494985],\n '一致同意': [411371044251948675, 830357040003751709],\n '一艘': [491073425580947624],\n '一色': [333998406796314676],\n '一节': [445340188696919589],\n '一茬': [821003625733737167],\n '一蘅': [850660288936617859],\n '一蘅江婧': [850660288936617859],\n '一行': [1114092058966707197],\n '一见': [810388388866969042],\n '一视同仁': [593236292042118237, 853935254035374252],\n '一览': [1067556343316055244],\n '一触': [208746648790254995],\n '一触即发': [208746648790254995],\n '一言': [333998406796314676],\n '一言不发': [211820259315193889, 890246207407361007],\n '一言堂': [333998406796314676],\n '一言难尽': [236091155045762513],\n '一词': [362323304203192304, 850660288936617859],\n '一说': [303999745143272056, 913696678705613286],\n '一课': [638116917394127028],\n '一败涂地': [326695170282691086],\n '一贯': [308108802025011874,\n  435866807838769339,\n  574291242965264124,\n  688401690243349931,\n  1051827277619566183],\n '一贯主张': [413459265341431819, 688401690243349931],\n '一贯作风': [890246207407361007],\n '一趟': [1149647724784660489],\n '一跃': [104033253673262452, 486478329817672379],\n '一跤': [105987056060150316, 706855420701201782],\n '一路': [114537726953561910],\n '一路上': [158284299189998099],\n '一跳': [442985687593815402, 1149647724784660489],\n '一跳定': [885016819557218630],\n '一蹴而就': [71026054321036478],\n '一车': [25322709175710859],\n '一轮': [205116939646827577, 830357040003751709],\n '一载': [858907960959803329],\n '一辆': [109357992817273381,\n  136237112005803911,\n  286180387248194701,\n  925299107178252614],\n '一辈': [469178001173912092, 534885515950121798],\n '一辈子': [534885515950121798],\n '一辙': [976703425453607942, 1101014947156145777],\n '一辩': [119451266639174897],\n '一边倒': [236091155045762513],\n '一连': [925044537219793164],\n '一连串': [925044537219793164],\n '一通': [473257041143469332],\n '一遍': [197838433306880752, 392705612460407344],\n '一道': [114537726953561910,\n  924936723937094063,\n  937367449404228575,\n  1195078446291550668],\n '一道道': [885016819557218630],\n '一部': [354445651349402821,\n  556781777494881859,\n  928908912510135279,\n  1038369219242066669],\n '一部分': [605726961192547723,\n  802158228863122457,\n  928908912510135279,\n  1038369219242066669],\n '一里': [376498617757733942],\n '一银': [156635108123989309],\n '一键': [913696678705613286],\n '一门': [353197625932521188],\n '一问': [663757588749789222],\n '一间': [210421462385470897, 934205440411588180],\n '一队': [236091155045762513],\n '一阵': [362323304203192304],\n '一霸': [426034178587072819],\n '一面镜子': [303999745143272056],\n '一顶': [726340178345976632],\n '一项': [45588900320060257, 110736916282523532],\n '一顿': [286180387248194701],\n '一颗': [534885515950121798],\n '一首': [885016819557218630],\n '一骂': [445340188696919589],\n ...}"
     },
     "execution_count": 17,
     "metadata": {},
     "output_type": "execute_result"
    }
   ],
   "source": [
    "all_files = table.explode(\"keywords\")\n",
    "data_change = all_files.groupby('keywords').groups\n",
    "\n",
    "index_map = dict()\n",
    "\n",
    "for item in data_change:\n",
    "    index_map[item] = table.loc[data_change[item], \"id\"].tolist()\n",
    "\n",
    "with open('../cache/index_map.pickle', mode='wb') as f:\n",
    "    pickle.dump(index_map, f)\n",
    "\n",
    "index_map"
   ],
   "metadata": {
    "collapsed": false,
    "pycharm": {
     "name": "#%%\n"
    }
   }
  }
 ],
 "metadata": {
  "kernelspec": {
   "display_name": "Python 3",
   "language": "python",
   "name": "python3"
  },
  "language_info": {
   "codemirror_mode": {
    "name": "ipython",
    "version": 2
   },
   "file_extension": ".py",
   "mimetype": "text/x-python",
   "name": "python",
   "nbconvert_exporter": "python",
   "pygments_lexer": "ipython2",
   "version": "2.7.6"
  }
 },
 "nbformat": 4,
 "nbformat_minor": 0
}